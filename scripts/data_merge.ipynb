{
 "cells": [
  {
   "cell_type": "code",
   "execution_count": 1,
   "id": "fe007551",
   "metadata": {},
   "outputs": [],
   "source": [
    "import pandas as pd\n",
    "import matplotlib.pyplot as plt\n",
    "import seaborn as sns\n",
    "from textwrap import wrap\n",
    "import numpy as np"
   ]
  },
  {
   "cell_type": "code",
   "execution_count": 3,
   "id": "a8401f0d",
   "metadata": {},
   "outputs": [],
   "source": [
    "emp_wage_df = pd.read_excel(\"../new_other_data/excel/state_M2024_dl.xlsx\", engine=\"openpyxl\")\n",
    "emp_wage_df.to_csv(\"../new_other_data/csv/emp_wage_data.csv\", index=False)\n",
    "\n",
    "task_ratings_df = pd.read_excel(\"../new_onet_data/excel/task_ratings.xlsx\", engine=\"openpyxl\")\n",
    "task_ratings_df.to_csv(\"../new_onet_data/csv/task_ratings.csv\", index=False)"
   ]
  },
  {
   "cell_type": "code",
   "execution_count": 20,
   "id": "060608a4",
   "metadata": {},
   "outputs": [],
   "source": [
    "gwo_df = pd.read_csv(\"../new_data/grouped_with_occupations_all.csv\")\n",
    "gwo_df = gwo_df.sort_values(by=\"O*NET-SOC Code\", ascending=True)\n",
    "gwo_df.to_csv(\"../new_data/grouped_with_occupations_all_sorted.csv\", index=False)\n"
   ]
  },
  {
   "cell_type": "code",
   "execution_count": 21,
   "id": "208a699f",
   "metadata": {},
   "outputs": [],
   "source": [
    "gwo_df[\"O*NET-SOC Code\"] = gwo_df[\"O*NET-SOC Code\"].str[:7]\n",
    "merged_df = pd.merge(\n",
    "    gwo_df,\n",
    "    emp_wage_df[[\n",
    "        \"OCC_CODE\", \"AREA_TITLE\", \"TOT_EMP\", \"EMP_PRSE\", \"JOBS_1000\",\n",
    "        \"LOC_QUOTIENT\", \"PCT_TOTAL\", \"PCT_RPT\", \"H_MEAN\", \"A_MEAN\",\n",
    "        \"MEAN_PRSE\", \"H_PCT10\", \"H_PCT25\", \"H_MEDIAN\", \"H_PCT75\", \"H_PCT90\",\n",
    "        \"A_PCT10\", \"A_PCT25\", \"A_MEDIAN\", \"A_PCT75\", \"A_PCT90\", \"ANNUAL\", \"HOURLY\"\n",
    "    ]],\n",
    "    left_on=\"O*NET-SOC Code\",\n",
    "    right_on=\"OCC_CODE\",\n",
    "    how=\"left\"\n",
    ")\n",
    "merged_df.head()\n",
    "merged_df.to_csv(\"../new_data/merged_gwo_emp_wage_data.csv\", index=False)"
   ]
  }
 ],
 "metadata": {
  "kernelspec": {
   "display_name": "venv",
   "language": "python",
   "name": "python3"
  },
  "language_info": {
   "codemirror_mode": {
    "name": "ipython",
    "version": 3
   },
   "file_extension": ".py",
   "mimetype": "text/x-python",
   "name": "python",
   "nbconvert_exporter": "python",
   "pygments_lexer": "ipython3",
   "version": "3.12.10"
  }
 },
 "nbformat": 4,
 "nbformat_minor": 5
}
